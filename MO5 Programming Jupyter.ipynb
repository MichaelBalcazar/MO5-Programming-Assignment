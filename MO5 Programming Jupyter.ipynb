{
 "cells": [
  {
   "cell_type": "markdown",
   "id": "4f6ebc6a-80fb-41be-b09f-ee13b0ffdc8f",
   "metadata": {},
   "source": [
    "I did the entire assignemnt in VS code, so I am going to answer the final prompt here and upload it to github.\n",
    "I love that coding gives you the ability to make tests like this. It is a very simple feature that is very useful for all of the projects you write. The results tested 2 different things and gave one failure. This indicates some sort of error with code being tested. This simply means there is still a lot of work to go with not only the code, but my ability to code as well!"
   ]
  },
  {
   "cell_type": "markdown",
   "id": "95090c48-a28f-4138-874b-2a15fda55928",
   "metadata": {},
   "source": [
    " line 21, in test_list_fraction\n",
    "    self.assertEqual(result, 1)\n",
    "AssertionError: Fraction(9, 10) != 1\n",
    "\n",
    "----------------------------------------------------------------------\n",
    "Ran 2 tests in 0.000s\n",
    "\n",
    "FAILED (failures=1)\n",
    "(base) michaelb@Michaels-MacBook-Air MO5 Project % "
   ]
  }
 ],
 "metadata": {
  "kernelspec": {
   "display_name": "Python 3 (ipykernel)",
   "language": "python",
   "name": "python3"
  },
  "language_info": {
   "codemirror_mode": {
    "name": "ipython",
    "version": 3
   },
   "file_extension": ".py",
   "mimetype": "text/x-python",
   "name": "python",
   "nbconvert_exporter": "python",
   "pygments_lexer": "ipython3",
   "version": "3.11.7"
  }
 },
 "nbformat": 4,
 "nbformat_minor": 5
}
